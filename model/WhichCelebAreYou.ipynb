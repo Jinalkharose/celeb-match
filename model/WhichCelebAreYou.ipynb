{
  "cells": [
    {
      "cell_type": "code",
      "execution_count": 4,
      "metadata": {
        "id": "DdS17OgmeqYs"
      },
      "outputs": [],
      "source": [
        "from tensorflow.keras.preprocessing import image\n",
        "from keras_vggface.utils import preprocess_input\n",
        "from keras_vggface.vggface import VGGFace\n",
        "import numpy as np\n",
        "import pickle\n",
        "from tqdm import tqdm"
      ]
    },
    {
      "cell_type": "markdown",
      "metadata": {
        "id": "9LqVTRzOgNDd"
      },
      "source": [
        "Prepare your data"
      ]
    },
    {
      "cell_type": "code",
      "execution_count": 11,
      "metadata": {
        "id": "WDlxL7O4fXeJ"
      },
      "outputs": [],
      "source": [
        "import os\n",
        "\n",
        "# Define directories\n",
        "directories = [\n",
        "    'bollywood_celeb_faces_0',\n",
        "    'bollywood_celeb_faces_1',\n",
        "    'bollywood_celeb_faces2'\n",
        "]\n",
        "\n",
        "# Create list of file names\n",
        "file_names = []\n",
        "base_dir = 'Bollywood_celeb_face_localized'\n",
        "\n",
        "# Loop through directories and subdirectories to get file names\n",
        "for directory in os.listdir(base_dir):\n",
        "    folder_path = os.path.join(base_dir, directory)\n",
        "\n",
        "    for folder in os.listdir(folder_path):\n",
        "        celeb_folder_path = os.path.join(folder_path, folder)\n",
        "    \n",
        "        for file in os.listdir(celeb_folder_path):\n",
        "            file_path = os.path.join(celeb_folder_path, file)\n",
        "            file_names.append(file_path)"
      ]
    },
    {
      "cell_type": "code",
      "execution_count": 12,
      "metadata": {
        "colab": {
          "base_uri": "https://localhost:8080/"
        },
        "id": "7MRuXrPBffUP",
        "outputId": "c8b1726d-d564-40ba-a965-547ac67000ae"
      },
      "outputs": [
        {
          "data": {
            "text/plain": [
              "8664"
            ]
          },
          "execution_count": 12,
          "metadata": {},
          "output_type": "execute_result"
        }
      ],
      "source": [
        "len(file_names)"
      ]
    },
    {
      "cell_type": "code",
      "execution_count": 5,
      "metadata": {
        "colab": {
          "base_uri": "https://localhost:8080/"
        },
        "id": "kkg7r7mBetSi",
        "outputId": "19212ada-4ce6-4e42-97d7-7bb96d19af75"
      },
      "outputs": [
        {
          "name": "stdout",
          "output_type": "stream",
          "text": [
            "Downloading data from https://github.com/rcmalli/keras-vggface/releases/download/v2.0/rcmalli_vggface_tf_notop_resnet50.h5\n",
            "94699520/94694792 [==============================] - 1s 0us/step\n"
          ]
        }
      ],
      "source": [
        "model = VGGFace(model='resnet50',include_top=False,input_shape=(224,224,3),pooling='avg')"
      ]
    },
    {
      "cell_type": "code",
      "execution_count": 13,
      "metadata": {
        "id": "t-s1P_6XgWYO"
      },
      "outputs": [],
      "source": [
        "def feature_extractor(img_path, model):\n",
        "    # Load and preprocess image\n",
        "    img = image.load_img(img_path, target_size=(224, 224))\n",
        "    img_array = image.img_to_array(img)\n",
        "    expanded_img = np.expand_dims(img_array, axis=0)\n",
        "    preprocessed_img = preprocess_input(expanded_img)\n",
        "\n",
        "    # Extract features using model\n",
        "    result = model.predict(preprocessed_img).flatten()\n",
        "\n",
        "    return result"
      ]
    },
    {
      "cell_type": "code",
      "execution_count": 14,
      "metadata": {
        "colab": {
          "base_uri": "https://localhost:8080/"
        },
        "id": "tgq_HTm5e1Oz",
        "outputId": "5a72e9f2-b7b2-4167-bdab-67503d931f0e"
      },
      "outputs": [
        {
          "name": "stderr",
          "output_type": "stream",
          "text": [
            "100%|██████████| 8664/8664 [28:41<00:00,  5.03it/s]\n"
          ]
        }
      ],
      "source": [
        "features = []\n",
        "\n",
        "for file in tqdm(file_names):\n",
        "    features.append(feature_extractor(file,model))"
      ]
    },
    {
      "cell_type": "code",
      "execution_count": 15,
      "metadata": {
        "id": "Ap1yKduEgoW0"
      },
      "outputs": [],
      "source": [
        "pickle.dump(features, open('embedding.pkl','wb'))"
      ]
    },
    {
      "cell_type": "code",
      "execution_count": 16,
      "metadata": {
        "id": "00qANaOpnTJN"
      },
      "outputs": [],
      "source": [
        "pickle.dump(file_names,open('file_names.pkl','wb'))"
      ]
    }
  ],
  "metadata": {
    "accelerator": "GPU",
    "colab": {
      "provenance": []
    },
    "gpuClass": "standard",
    "kernelspec": {
      "display_name": "Python 3",
      "name": "python3"
    },
    "language_info": {
      "name": "python"
    }
  },
  "nbformat": 4,
  "nbformat_minor": 0
}
